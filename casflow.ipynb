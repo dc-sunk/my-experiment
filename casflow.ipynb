{
  "nbformat": 4,
  "nbformat_minor": 0,
  "metadata": {
    "colab": {
      "name": "casflow.ipynb",
      "provenance": [],
      "collapsed_sections": [],
      "toc_visible": true,
      "include_colab_link": true
    },
    "kernelspec": {
      "name": "python3",
      "display_name": "Python 3"
    },
    "accelerator": "GPU"
  },
  "cells": [
    {
      "cell_type": "markdown",
      "metadata": {
        "id": "view-in-github",
        "colab_type": "text"
      },
      "source": [
        "<a href=\"https://colab.research.google.com/github/dc-sunk/my-experiment/blob/main/casflow.ipynb\" target=\"_parent\"><img src=\"https://colab.research.google.com/assets/colab-badge.svg\" alt=\"Open In Colab\"/></a>"
      ]
    },
    {
      "cell_type": "markdown",
      "metadata": {
        "id": "TMudXcmEZaLV"
      },
      "source": [
        "# CasFlow\n",
        "\n",
        "This is a reference implementation of **CasFlow** described in our paper: \n",
        "\n",
        "> CasFlow: Exploring Hierarchical Structures andPropagation Uncertainty for Cascade Prediction.  \n",
        "> Fan Zhou, Xovee Xu, Kunpeng Zhang, Siyuan Liu and Goce Trajcevski.  \n",
        "> Submitted for publication."
      ]
    },
    {
      "cell_type": "markdown",
      "metadata": {
        "id": "FOf93TRJmSDF"
      },
      "source": [
        ""
      ]
    },
    {
      "cell_type": "markdown",
      "metadata": {
        "id": "4jtaRBo_jMEp"
      },
      "source": [
        "## Install the dependencies"
      ]
    },
    {
      "cell_type": "code",
      "metadata": {
        "id": "f74X6FsMYCSi"
      },
      "source": [
        "# clone the source code\n",
        "!git clone -l -s https://github.com/Xovee/casflow.git\n",
        "%cd casflow\n",
        "!pip uninstall -y tensorflow\n",
        "!pip install -r requirements.txt"
      ],
      "execution_count": null,
      "outputs": []
    },
    {
      "cell_type": "markdown",
      "metadata": {
        "id": "Vk5EyP_JjRno"
      },
      "source": [
        "## Run the code"
      ]
    },
    {
      "cell_type": "code",
      "metadata": {
        "id": "c3Ne8CL4YTNi"
      },
      "source": [
        "!python gene_cascade.py"
      ],
      "execution_count": null,
      "outputs": []
    },
    {
      "cell_type": "code",
      "metadata": {
        "id": "5NweP3RBjvhL"
      },
      "source": [
        "!python preprocessing.py"
      ],
      "execution_count": null,
      "outputs": []
    },
    {
      "cell_type": "code",
      "metadata": {
        "id": "rAfKDBSjjxdg"
      },
      "source": [
        "!python casflow.py"
      ],
      "execution_count": null,
      "outputs": []
    },
    {
      "cell_type": "markdown",
      "metadata": {
        "id": "bzfv4ZH7cFBE"
      },
      "source": [
        "## Weibo Dataset\n",
        "\n",
        "You can download the Weibo dataset [here](https://github.com/CaoQi92/DeepHawkes) or in [Google Driver](https://drive.google.com/file/d/1fgkLeFRYQDQOKPujsmn61sGbJt6PaERF/view?usp=sharing). "
      ]
    },
    {
      "cell_type": "markdown",
      "metadata": {
        "id": "1O_Qs4cNZq4X"
      },
      "source": [
        "If you find **CasFlow** useful for your research, please consider citing us 😘:\n",
        "\n",
        "    @inproceedings{zhou2020casflow,  \n",
        "      author = {Fan Zhou and Xovee Xu and Kunpeng Zhang and Siyuan Liu and Goce Trajcevski},  \n",
        "      title = {CasFlow: Exploring Hierarchical Structures andPropagation Uncertainty for Cascade Prediction},\n",
        "      booktitle = {Submitted for publication},\n",
        "      year = {2020}\n",
        "    }\n",
        "\n",
        "We also have a [survey paper](https://arxiv.org/abs/2005.11041) you might be interested:\n",
        "\n",
        "    @article{zhou2020survey,\n",
        "      author = {Fan Zhou and Xovee Xu and Goce Trajcevski and Kunpeng Zhang}, \n",
        "      title = {A Survey of Information Cascade Analysis: Models, Predictions and Recent Advances}, \n",
        "      journal = {arXiv:2005.11041}, \n",
        "      year = {2020},\n",
        "    }"
      ]
    }
  ]
}