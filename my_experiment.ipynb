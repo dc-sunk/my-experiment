{
  "nbformat": 4,
  "nbformat_minor": 0,
  "metadata": {
    "colab": {
      "name": "my experiment",
      "provenance": [],
      "collapsed_sections": [],
      "authorship_tag": "ABX9TyMsZbNoKrsEogmsEWgAKXfQ",
      "include_colab_link": true
    },
    "kernelspec": {
      "name": "python3",
      "display_name": "Python 3"
    },
    "accelerator": "TPU"
  },
  "cells": [
    {
      "cell_type": "markdown",
      "metadata": {
        "id": "view-in-github",
        "colab_type": "text"
      },
      "source": [
        "<a href=\"https://colab.research.google.com/github/dc-sunk/my-experiment/blob/main/my_experiment.ipynb\" target=\"_parent\"><img src=\"https://colab.research.google.com/assets/colab-badge.svg\" alt=\"Open In Colab\"/></a>"
      ]
    },
    {
      "cell_type": "code",
      "metadata": {
        "colab": {
          "base_uri": "https://localhost:8080/"
        },
        "id": "h_mglvYPHU5I",
        "outputId": "0b4d2f78-45d6-4133-b436-95e83ad76bd8"
      },
      "source": [
        "!git clone -l -s https://github.com/CaoQi92/DeepHawkes.git"
      ],
      "execution_count": 2,
      "outputs": [
        {
          "output_type": "stream",
          "text": [
            "fatal: destination path 'DeepHawkes' already exists and is not an empty directory.\n"
          ],
          "name": "stdout"
        }
      ]
    },
    {
      "cell_type": "code",
      "metadata": {
        "colab": {
          "base_uri": "https://localhost:8080/",
          "height": 35
        },
        "id": "Wb3Oos3LI_PB",
        "outputId": "58636d4f-d423-4d72-ce3d-258dc304ffd0"
      },
      "source": [
        "pwd"
      ],
      "execution_count": 6,
      "outputs": [
        {
          "output_type": "execute_result",
          "data": {
            "application/vnd.google.colaboratory.intrinsic+json": {
              "type": "string"
            },
            "text/plain": [
              "'/content/DeepHawkes/gen_sequence'"
            ]
          },
          "metadata": {
            "tags": []
          },
          "execution_count": 6
        }
      ]
    },
    {
      "cell_type": "code",
      "metadata": {
        "colab": {
          "base_uri": "https://localhost:8080/"
        },
        "id": "V0EHxuEOHdmu",
        "outputId": "9b4f8bd4-3c1f-4dc4-bd1f-fd8b56d18802"
      },
      "source": [
        "%cd DeepHawkes/"
      ],
      "execution_count": 3,
      "outputs": [
        {
          "output_type": "stream",
          "text": [
            "/content/DeepHawkes\n"
          ],
          "name": "stdout"
        }
      ]
    },
    {
      "cell_type": "code",
      "metadata": {
        "colab": {
          "base_uri": "https://localhost:8080/"
        },
        "id": "z4DP8AaWHyVn",
        "outputId": "49d56d9f-f6ba-4ccc-9000-c46ca0347f2a"
      },
      "source": [
        "%cd gen_sequence/"
      ],
      "execution_count": 5,
      "outputs": [
        {
          "output_type": "stream",
          "text": [
            "/content/DeepHawkes/gen_sequence\n"
          ],
          "name": "stdout"
        }
      ]
    },
    {
      "cell_type": "code",
      "metadata": {
        "colab": {
          "base_uri": "https://localhost:8080/"
        },
        "id": "_Cjqo1HALDH0",
        "outputId": "ae595823-9d1d-48e1-f9af-e356ee2e92ca"
      },
      "source": [
        "pip install tensorflow==1.15.0"
      ],
      "execution_count": 7,
      "outputs": [
        {
          "output_type": "stream",
          "text": [
            "Collecting tensorflow==1.15.0\n",
            "\u001b[?25l  Downloading https://files.pythonhosted.org/packages/3f/98/5a99af92fb911d7a88a0005ad55005f35b4c1ba8d75fba02df726cd936e6/tensorflow-1.15.0-cp36-cp36m-manylinux2010_x86_64.whl (412.3MB)\n",
            "\u001b[K     |████████████████████████████████| 412.3MB 47kB/s \n",
            "\u001b[?25hRequirement already satisfied: grpcio>=1.8.6 in /usr/local/lib/python3.6/dist-packages (from tensorflow==1.15.0) (1.33.2)\n",
            "Requirement already satisfied: protobuf>=3.6.1 in /usr/local/lib/python3.6/dist-packages (from tensorflow==1.15.0) (3.12.4)\n",
            "Requirement already satisfied: numpy<2.0,>=1.16.0 in /usr/local/lib/python3.6/dist-packages (from tensorflow==1.15.0) (1.18.5)\n",
            "Collecting tensorflow-estimator==1.15.1\n",
            "\u001b[?25l  Downloading https://files.pythonhosted.org/packages/de/62/2ee9cd74c9fa2fa450877847ba560b260f5d0fb70ee0595203082dafcc9d/tensorflow_estimator-1.15.1-py2.py3-none-any.whl (503kB)\n",
            "\u001b[K     |████████████████████████████████| 512kB 41.0MB/s \n",
            "\u001b[?25hRequirement already satisfied: six>=1.10.0 in /usr/local/lib/python3.6/dist-packages (from tensorflow==1.15.0) (1.15.0)\n",
            "Requirement already satisfied: astor>=0.6.0 in /usr/local/lib/python3.6/dist-packages (from tensorflow==1.15.0) (0.8.1)\n",
            "Requirement already satisfied: termcolor>=1.1.0 in /usr/local/lib/python3.6/dist-packages (from tensorflow==1.15.0) (1.1.0)\n",
            "Requirement already satisfied: absl-py>=0.7.0 in /usr/local/lib/python3.6/dist-packages (from tensorflow==1.15.0) (0.10.0)\n",
            "Requirement already satisfied: wheel>=0.26 in /usr/local/lib/python3.6/dist-packages (from tensorflow==1.15.0) (0.35.1)\n",
            "Collecting tensorboard<1.16.0,>=1.15.0\n",
            "\u001b[?25l  Downloading https://files.pythonhosted.org/packages/1e/e9/d3d747a97f7188f48aa5eda486907f3b345cd409f0a0850468ba867db246/tensorboard-1.15.0-py3-none-any.whl (3.8MB)\n",
            "\u001b[K     |████████████████████████████████| 3.8MB 49.1MB/s \n",
            "\u001b[?25hCollecting gast==0.2.2\n",
            "  Downloading https://files.pythonhosted.org/packages/4e/35/11749bf99b2d4e3cceb4d55ca22590b0d7c2c62b9de38ac4a4a7f4687421/gast-0.2.2.tar.gz\n",
            "Requirement already satisfied: google-pasta>=0.1.6 in /usr/local/lib/python3.6/dist-packages (from tensorflow==1.15.0) (0.2.0)\n",
            "Requirement already satisfied: wrapt>=1.11.1 in /usr/local/lib/python3.6/dist-packages (from tensorflow==1.15.0) (1.12.1)\n",
            "Requirement already satisfied: opt-einsum>=2.3.2 in /usr/local/lib/python3.6/dist-packages (from tensorflow==1.15.0) (3.3.0)\n",
            "Requirement already satisfied: keras-preprocessing>=1.0.5 in /usr/local/lib/python3.6/dist-packages (from tensorflow==1.15.0) (1.1.2)\n",
            "Collecting keras-applications>=1.0.8\n",
            "\u001b[?25l  Downloading https://files.pythonhosted.org/packages/71/e3/19762fdfc62877ae9102edf6342d71b28fbfd9dea3d2f96a882ce099b03f/Keras_Applications-1.0.8-py3-none-any.whl (50kB)\n",
            "\u001b[K     |████████████████████████████████| 51kB 6.2MB/s \n",
            "\u001b[?25hRequirement already satisfied: setuptools in /usr/local/lib/python3.6/dist-packages (from protobuf>=3.6.1->tensorflow==1.15.0) (50.3.2)\n",
            "Requirement already satisfied: werkzeug>=0.11.15 in /usr/local/lib/python3.6/dist-packages (from tensorboard<1.16.0,>=1.15.0->tensorflow==1.15.0) (1.0.1)\n",
            "Requirement already satisfied: markdown>=2.6.8 in /usr/local/lib/python3.6/dist-packages (from tensorboard<1.16.0,>=1.15.0->tensorflow==1.15.0) (3.3.3)\n",
            "Requirement already satisfied: h5py in /usr/local/lib/python3.6/dist-packages (from keras-applications>=1.0.8->tensorflow==1.15.0) (2.10.0)\n",
            "Requirement already satisfied: importlib-metadata; python_version < \"3.8\" in /usr/local/lib/python3.6/dist-packages (from markdown>=2.6.8->tensorboard<1.16.0,>=1.15.0->tensorflow==1.15.0) (2.0.0)\n",
            "Requirement already satisfied: zipp>=0.5 in /usr/local/lib/python3.6/dist-packages (from importlib-metadata; python_version < \"3.8\"->markdown>=2.6.8->tensorboard<1.16.0,>=1.15.0->tensorflow==1.15.0) (3.4.0)\n",
            "Building wheels for collected packages: gast\n",
            "  Building wheel for gast (setup.py) ... \u001b[?25l\u001b[?25hdone\n",
            "  Created wheel for gast: filename=gast-0.2.2-cp36-none-any.whl size=7542 sha256=0b17ae5d0639d8419e082ff8ddd35c79edd4abbd6038ad23fd9d4bb126366cf9\n",
            "  Stored in directory: /root/.cache/pip/wheels/5c/2e/7e/a1d4d4fcebe6c381f378ce7743a3ced3699feb89bcfbdadadd\n",
            "Successfully built gast\n",
            "\u001b[31mERROR: tensorflow-probability 0.11.0 has requirement gast>=0.3.2, but you'll have gast 0.2.2 which is incompatible.\u001b[0m\n",
            "Installing collected packages: tensorflow-estimator, tensorboard, gast, keras-applications, tensorflow\n",
            "  Found existing installation: tensorflow-estimator 2.3.0\n",
            "    Uninstalling tensorflow-estimator-2.3.0:\n",
            "      Successfully uninstalled tensorflow-estimator-2.3.0\n",
            "  Found existing installation: tensorboard 2.3.0\n",
            "    Uninstalling tensorboard-2.3.0:\n",
            "      Successfully uninstalled tensorboard-2.3.0\n",
            "  Found existing installation: gast 0.3.3\n",
            "    Uninstalling gast-0.3.3:\n",
            "      Successfully uninstalled gast-0.3.3\n",
            "  Found existing installation: tensorflow 2.3.0\n",
            "    Uninstalling tensorflow-2.3.0:\n",
            "      Successfully uninstalled tensorflow-2.3.0\n",
            "Successfully installed gast-0.2.2 keras-applications-1.0.8 tensorboard-1.15.0 tensorflow-1.15.0 tensorflow-estimator-1.15.1\n"
          ],
          "name": "stdout"
        }
      ]
    },
    {
      "cell_type": "code",
      "metadata": {
        "colab": {
          "base_uri": "https://localhost:8080/"
        },
        "id": "7p_RMf9eM_Yo",
        "outputId": "4f613d0f-a31e-4ab8-e212-942109d53fdd"
      },
      "source": [
        "!python gen_shortestpath.py"
      ],
      "execution_count": 8,
      "outputs": [
        {
          "output_type": "stream",
          "text": [
            "yes\n",
            "['351601', '-1']\n",
            "['4781546', '-1']\n",
            "['5000830', '-1']\n",
            "['5263156', '-1']\n",
            "['5263156', '-1']\n",
            "['652902', '-1']\n",
            "['-1']\n",
            "['-1']\n",
            "['-1']\n",
            "['-1']\n",
            "['-1']\n",
            "['-1']\n",
            "['-1']\n",
            "['5513165', '-1']\n",
            "['1666362', '-1']\n",
            "['441319', '-1']\n",
            "['3619043', '-1']\n",
            "['164582', '-1']\n",
            "total: 42088\n",
            "['351601', '-1']\n",
            "['1089184', '-1']\n",
            "['2216751', '-1']\n",
            "['953561', '-1']\n",
            "['4781546', '-1']\n",
            "['5000830', '-1']\n",
            "['5263156', '-1']\n",
            "['5263156', '-1']\n",
            "['652902', '-1']\n",
            "['-1']\n",
            "['-1']\n",
            "['-1']\n",
            "['-1']\n",
            "['-1']\n",
            "['-1']\n",
            "['-1']\n",
            "['5513165', '-1']\n",
            "['1666362', '-1']\n",
            "['441319', '-1']\n",
            "['3619043', '-1']\n",
            "['164582', '-1']\n"
          ],
          "name": "stdout"
        }
      ]
    },
    {
      "cell_type": "code",
      "metadata": {
        "colab": {
          "base_uri": "https://localhost:8080/"
        },
        "id": "9aBDzgCHNGsT",
        "outputId": "2cbcd982-9040-4381-ca46-5c947c15909e"
      },
      "source": [
        "%cd deep_learning/\n",
        "!python preprocess.py"
      ],
      "execution_count": 10,
      "outputs": [
        {
          "output_type": "stream",
          "text": [
            "/content/DeepHawkes/deep_learning\n",
            "observation time 10799\n",
            "the number of time interval: 6\n",
            "time interval: 1800\n",
            "max_size 1000\n",
            "max_size 993\n",
            "max_size 998\n",
            "Number of sequence: 1000\n",
            "1020.0\n",
            "max_num: 1000\n",
            "max_num: 993\n",
            "max_num: 998\n",
            "\n",
            "length of sequence: 26\n",
            "26 13 14\n",
            "length of original isd: 1251317\n",
            "length of original isd: 334377\n",
            "length of original isd: 338265\n",
            "lenth of original_ids: 1651699\n",
            "blank_template 26 [1651697, 1651697, 1651697, 1651697, 1651697, 1651697, 1651697, 1651697, 1651697, 1651697, 1651697, 1651697, 1651697, 1651697, 1651697, 1651697, 1651697, 1651697, 1651697, 1651697, 1651697, 1651697, 1651697, 1651697, 1651697, 1651697]\n",
            "blank_template 26 [1651697, 1651697, 1651697, 1651697, 1651697, 1651697, 1651697, 1651697, 1651697, 1651697, 1651697, 1651697, 1651697, 1651697, 1651697, 1651697, 1651697, 1651697, 1651697, 1651697, 1651697, 1651697, 1651697, 1651697, 1651697, 1651697]\n",
            "blank_template 26 [1651697, 1651697, 1651697, 1651697, 1651697, 1651697, 1651697, 1651697, 1651697, 1651697, 1651697, 1651697, 1651697, 1651697, 1651697, 1651697, 1651697, 1651697, 1651697, 1651697, 1651697, 1651697, 1651697, 1651697, 1651697, 1651697]\n"
          ],
          "name": "stdout"
        }
      ]
    },
    {
      "cell_type": "code",
      "metadata": {
        "colab": {
          "base_uri": "https://localhost:8080/"
        },
        "id": "jOSDyqJ4NRpv",
        "outputId": "4b4e15e6-b8e3-4d69-81bb-79f0123a9226"
      },
      "source": [
        "!python run_sparse.py 0.005 0.0005 0.05 0.8"
      ],
      "execution_count": null,
      "outputs": [
        {
          "output_type": "stream",
          "text": [
            "observation time 10799\n",
            "the number of time interval: 6\n",
            "time interval: 1800\n",
            "dataset information:  1651699 1020 26\n",
            "dropout prob: 0.8\n",
            "l2 0.05\n",
            "learning rate: 0.005\n",
            "emb_learning_rate: 0.0005\n",
            "WARNING:tensorflow:From run_sparse.py:106: The name tf.Session is deprecated. Please use tf.compat.v1.Session instead.\n",
            "\n",
            "2020-11-23 08:27:55.828832: I tensorflow/core/platform/cpu_feature_guard.cc:142] Your CPU supports instructions that this TensorFlow binary was not compiled to use: AVX2 FMA\n",
            "2020-11-23 08:27:55.833692: I tensorflow/core/platform/profile_utils/cpu_utils.cc:94] CPU Frequency: 2250000000 Hz\n",
            "2020-11-23 08:27:55.833971: I tensorflow/compiler/xla/service/service.cc:168] XLA service 0x135d480 initialized for platform Host (this does not guarantee that XLA will be used). Devices:\n",
            "2020-11-23 08:27:55.834013: I tensorflow/compiler/xla/service/service.cc:176]   StreamExecutor device (0): Host, Default Version\n",
            "2020-11-23 08:27:55.865017: I tensorflow/stream_executor/platform/default/dso_loader.cc:44] Successfully opened dynamic library libcuda.so.1\n",
            "2020-11-23 08:27:55.932480: E tensorflow/stream_executor/cuda/cuda_driver.cc:318] failed call to cuInit: CUDA_ERROR_NO_DEVICE: no CUDA-capable device is detected\n",
            "2020-11-23 08:27:55.932544: I tensorflow/stream_executor/cuda/cuda_diagnostics.cc:156] kernel driver does not appear to be running on this host (8cf4aee91983): /proc/driver/nvidia/version does not exist\n",
            "WARNING:tensorflow:From /content/DeepHawkes/deep_learning/model_sparse.py:34: calling RandomUniform.__init__ (from tensorflow.python.ops.init_ops) with dtype is deprecated and will be removed in a future version.\n",
            "Instructions for updating:\n",
            "Call initializer instance with the dtype argument instead of passing it to the constructor\n",
            "WARNING:tensorflow:\n",
            "The TensorFlow contrib module will not be included in TensorFlow 2.0.\n",
            "For more information, please see:\n",
            "  * https://github.com/tensorflow/community/blob/master/rfcs/20180907-contrib-sunset.md\n",
            "  * https://github.com/tensorflow/addons\n",
            "  * https://github.com/tensorflow/io (for I/O related ops)\n",
            "If you depend on functionality not listed there, please file an issue.\n",
            "\n",
            "WARNING:tensorflow:From /content/DeepHawkes/deep_learning/model_sparse.py:89: The name tf.variable_scope is deprecated. Please use tf.compat.v1.variable_scope instead.\n",
            "\n",
            "WARNING:tensorflow:From /content/DeepHawkes/deep_learning/model_sparse.py:93: GRUCell.__init__ (from tensorflow.python.ops.rnn_cell_impl) is deprecated and will be removed in a future version.\n",
            "Instructions for updating:\n",
            "This class is equivalent as tf.keras.layers.GRUCell, and will be replaced by that in Tensorflow 2.0.\n",
            "WARNING:tensorflow:From /content/DeepHawkes/deep_learning/model_sparse.py:117: calling dropout (from tensorflow.python.ops.nn_ops) with keep_prob is deprecated and will be removed in a future version.\n",
            "Instructions for updating:\n",
            "Please use `rate` instead of `keep_prob`. Rate should be set to `rate = 1 - keep_prob`.\n",
            "WARNING:tensorflow:From /content/DeepHawkes/deep_learning/model_sparse.py:131: static_rnn (from tensorflow.python.ops.rnn) is deprecated and will be removed in a future version.\n",
            "Instructions for updating:\n",
            "Please use `keras.layers.RNN(cell, unroll=True)`, which is equivalent to this API\n",
            "WARNING:tensorflow:From /usr/local/lib/python3.6/dist-packages/tensorflow_core/python/ops/rnn_cell_impl.py:559: Layer.add_variable (from tensorflow.python.keras.engine.base_layer) is deprecated and will be removed in a future version.\n",
            "Instructions for updating:\n",
            "Please use `layer.add_weight` method instead.\n",
            "WARNING:tensorflow:From /usr/local/lib/python3.6/dist-packages/tensorflow_core/python/ops/rnn_cell_impl.py:565: calling Constant.__init__ (from tensorflow.python.ops.init_ops) with dtype is deprecated and will be removed in a future version.\n",
            "Instructions for updating:\n",
            "Call initializer instance with the dtype argument instead of passing it to the constructor\n",
            "WARNING:tensorflow:From /usr/local/lib/python3.6/dist-packages/tensorflow_core/python/ops/rnn_cell_impl.py:575: calling Zeros.__init__ (from tensorflow.python.ops.init_ops) with dtype is deprecated and will be removed in a future version.\n",
            "Instructions for updating:\n",
            "Call initializer instance with the dtype argument instead of passing it to the constructor\n",
            "WARNING:tensorflow:From /usr/local/lib/python3.6/dist-packages/tensorflow_core/python/ops/resource_variable_ops.py:1630: calling BaseResourceVariable.__init__ (from tensorflow.python.ops.resource_variable_ops) with constraint is deprecated and will be removed in a future version.\n",
            "Instructions for updating:\n",
            "If using Keras pass *_constraint arguments to layers.\n",
            "(32, 1)\n",
            "WARNING:tensorflow:From /content/DeepHawkes/deep_learning/model_sparse.py:49: The name tf.trainable_variables is deprecated. Please use tf.compat.v1.trainable_variables instead.\n",
            "\n",
            "WARNING:tensorflow:From /content/DeepHawkes/deep_learning/model_sparse.py:57: The name tf.summary.scalar is deprecated. Please use tf.compat.v1.summary.scalar instead.\n",
            "\n",
            "WARNING:tensorflow:From /usr/local/lib/python3.6/dist-packages/tensorflow_core/python/ops/math_grad.py:1375: where (from tensorflow.python.ops.array_ops) is deprecated and will be removed in a future version.\n",
            "Instructions for updating:\n",
            "Use tf.where in 2.0, which has the same broadcast rule as np.where\n",
            "WARNING:tensorflow:From /usr/local/lib/python3.6/dist-packages/tensorflow_core/python/util/tf_should_use.py:198: initialize_all_variables (from tensorflow.python.ops.variables) is deprecated and will be removed after 2017-03-02.\n",
            "Instructions for updating:\n",
            "Use `tf.global_variables_initializer` instead.\n",
            "2020-11-23 08:27:58.287024: W tensorflow/core/framework/cpu_allocator_impl.cc:81] Allocation of 330339800 exceeds 10% of system memory.\n",
            "2020-11-23 08:27:58.431975: W tensorflow/core/framework/cpu_allocator_impl.cc:81] Allocation of 330339800 exceeds 10% of system memory.\n",
            "2020-11-23 08:27:58.502892: W tensorflow/core/framework/cpu_allocator_impl.cc:81] Allocation of 330339800 exceeds 10% of system memory.\n",
            "2020-11-23 08:27:58.564255: W tensorflow/core/framework/cpu_allocator_impl.cc:81] Allocation of 330339800 exceeds 10% of system memory.\n",
            "2020-11-23 08:27:58.632379: W tensorflow/core/framework/cpu_allocator_impl.cc:81] Allocation of 330339800 exceeds 10% of system memory.\n",
            "WARNING:tensorflow:From run_sparse.py:115: The name tf.summary.FileWriter is deprecated. Please use tf.compat.v1.summary.FileWriter instead.\n",
            "\n",
            "[-0.01  0.01 -0.    0.   -0.01  0.01]\n"
          ],
          "name": "stdout"
        }
      ]
    }
  ]
}